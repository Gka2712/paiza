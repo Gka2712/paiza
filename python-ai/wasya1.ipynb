{
 "cells": [
  {
   "cell_type": "code",
   "execution_count": null,
   "metadata": {},
   "outputs": [],
   "source": [
    "import numpy as np\n",
    "import matplotlib.pyplot as plt\n",
    "import random \n",
    "from sklearn import svm\n",
    "\n",
    "N=15\n",
    "random.seed(11813)\n",
    "train_X=np.array([[random.randint(0,100),random.randint(0,100)]for i in range(N)])"
   ]
  },
  {
   "cell_type": "code",
   "execution_count": null,
   "metadata": {},
   "outputs": [],
   "source": [
    "train_X"
   ]
  },
  {
   "cell_type": "code",
   "execution_count": null,
   "metadata": {},
   "outputs": [],
   "source": [
    "for i in range(len(train_X)):\n",
    "    plt.plot(train_X[i][0],train_X[i][1],'o',color='blue')\n",
    "    plt.annotate(i,(train_X[i][0],train_X[i][1]),size=20)"
   ]
  },
  {
   "cell_type": "code",
   "execution_count": null,
   "metadata": {},
   "outputs": [],
   "source": [
    "train_y=np.array([0 for i in range(N)])\n",
    "train_y[2]=train_y[3]=train_y[1]=train_y[4]=train_y[5]=train_y[6]=train_y[11]=1"
   ]
  },
  {
   "cell_type": "code",
   "execution_count": null,
   "metadata": {},
   "outputs": [],
   "source": [
    "colors = ['blue', 'red']\n",
    "for i in range(len(train_X)):\n",
    "    plt.plot(train_X[i][0], train_X[i][1], 'o', color=colors[train_y[i]])\n",
    "    plt.annotate(i, (train_X[i][0], train_X[i][1]), size=20)"
   ]
  },
  {
   "cell_type": "code",
   "execution_count": null,
   "metadata": {},
   "outputs": [],
   "source": [
    "# 分類したものを描画する\n",
    "colors = ['blue', 'red']\n",
    "for i in range(len(train_X)):\n",
    "    plt.plot(train_X[i][0], train_X[i][1], 'o', color=colors[train_y[i]])\n",
    "    plt.annotate(i, (train_X[i][0], train_X[i][1]), size=20)\n",
    "\n",
    "# テストデータ。0か1かどっちだろう？\n",
    "test_X = np.array([[30, 60]])\n",
    "\n",
    "# test_Xを描画する\n",
    "plt.plot(test_X[0][0], test_X[0][1], 'x', color='black')\n",
    "plt.annotate('test', (test_X[0][0], test_X[0][1]), size=20)"
   ]
  },
  {
   "cell_type": "code",
   "execution_count": null,
   "metadata": {},
   "outputs": [],
   "source": [
    "# 分類したものを描画する\n",
    "colors = ['blue', 'red']\n",
    "for i in range(len(train_X)):\n",
    "    plt.plot(train_X[i][0], train_X[i][1], 'o', color=colors[train_y[i]])\n",
    "    plt.annotate(i, (train_X[i][0], train_X[i][1]), size=20)\n",
    "\n",
    "# テストデータ。0か1かどっちだろう？\n",
    "test_X = np.array([[30, 60],[90,90],[50,50],[60,40]])\n",
    "\n",
    "# test_Xを描画する\n",
    "plt.plot(test_X[0][0], test_X[0][1], 'x', color='black')\n",
    "plt.annotate('test', (test_X[0][0], test_X[0][1]), size=20)\n",
    "\n",
    "clf=svm.SVC(gamma=0.0001,C=1)\n",
    "clf.fit(train_X, train_y)\n",
    "\n",
    "# 分類する\n",
    "test_y = clf.predict(test_X)\n",
    "# text_yを描画する\n",
    "for i in range(len(test_X)):\n",
    "    plt.plot(test_X[i][0], test_X[i][1], 'x', color=colors[test_y[i]])\n",
    "    plt.annotate('test', (test_X[i][0], test_X[i][1]), size=20)\n",
    "    \n",
    "x=np.linspace(0,100,30)\n",
    "y=np.linspace(0,100,30)\n",
    "yy,xx=np.meshgrid(y,x)\n",
    "xy = np.vstack([xx.ravel(), yy.ravel()]).T\n",
    "P = clf.decision_function(xy).reshape(xx.shape)\n",
    "plt.contour(xx, yy, P, colors='k',\n",
    "                      levels=[0], alpha=0.5,\n",
    "                      linestyles=['-'])"
   ]
  }
 ],
 "metadata": {
  "kernelspec": {
   "display_name": "Python 3",
   "language": "python",
   "name": "python3"
  },
  "language_info": {
   "codemirror_mode": {
    "name": "ipython",
    "version": 3
   },
   "file_extension": ".py",
   "mimetype": "text/x-python",
   "name": "python",
   "nbconvert_exporter": "python",
   "pygments_lexer": "ipython3",
   "version": "3.12.2"
  }
 },
 "nbformat": 4,
 "nbformat_minor": 2
}
