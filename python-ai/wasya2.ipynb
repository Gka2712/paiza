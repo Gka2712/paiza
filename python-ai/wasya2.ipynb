{
 "cells": [
  {
   "cell_type": "code",
   "execution_count": null,
   "metadata": {},
   "outputs": [],
   "source": [
    "import librosa\n",
    "import librosa.display\n",
    "import matplotlib.pyplot as plt\n",
    "a,sr=librosa.load('voiceset/kirishima_b01.wav')\n",
    "librosa.display.waveplot(a,sr)"
   ]
  },
  {
   "cell_type": "code",
   "execution_count": null,
   "metadata": {},
   "outputs": [],
   "source": [
    "#波形を表すデータ:振幅の数値の列\n",
    "print(a)\n",
    "print(len(a))\n",
    "#サンプリングレート 1秒かのフレーム数\n",
    "print(sr)"
   ]
  },
  {
   "cell_type": "code",
   "execution_count": null,
   "metadata": {},
   "outputs": [],
   "source": [
    "#6秒の音声なので、次がlen(a)と一致するはず\n",
    "print(sr*6)"
   ]
  },
  {
   "cell_type": "code",
   "execution_count": null,
   "metadata": {},
   "outputs": [],
   "source": [
    "a,sr=librosa.load('sample/hi.wav')\n",
    "librosa.display.waveplot(a,sr)\n",
    "plt.show()\n",
    "\n",
    "a,sr=librosa.load('sample/lo.wav')\n",
    "librosa.display.waveplot(a,sr)\n",
    "plt.show()"
   ]
  },
  {
   "cell_type": "code",
   "execution_count": null,
   "metadata": {},
   "outputs": [],
   "source": [
    "# 高音\n",
    "a, sr = librosa.load('sample/hi.wav')\n",
    "librosa.display.waveplot(a[0:100], sr)\n",
    "plt.show()\n",
    "\n",
    "# 低音\n",
    "a, sr = librosa.load('sample/lo.wav')\n",
    "librosa.display.waveplot(a[0:100], sr)\n",
    "plt.show()\n"
   ]
  }
 ],
 "metadata": {
  "kernelspec": {
   "display_name": "Python 3",
   "language": "python",
   "name": "python3"
  },
  "language_info": {
   "codemirror_mode": {
    "name": "ipython",
    "version": 3
   },
   "file_extension": ".py",
   "mimetype": "text/x-python",
   "name": "python",
   "nbconvert_exporter": "python",
   "pygments_lexer": "ipython3",
   "version": "3.12.2"
  }
 },
 "nbformat": 4,
 "nbformat_minor": 2
}
