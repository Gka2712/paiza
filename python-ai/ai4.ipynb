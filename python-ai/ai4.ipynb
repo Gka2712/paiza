{
 "cells": [
  {
   "cell_type": "code",
   "execution_count": null,
   "metadata": {},
   "outputs": [],
   "source": [
    "import cv2\n",
    "import numpy as np\n",
    "from matplotlib import pyplot as plt\n",
    "import pandas as pd\n",
    "\n",
    "targets_data = pd.read_csv('y_classified.csv')"
   ]
  },
  {
   "cell_type": "code",
   "execution_count": null,
   "metadata": {},
   "outputs": [],
   "source": [
    "import numpy as np\n",
    "images_data=np.empty((0,256),int)\n",
    "for i in range(100):\n",
    "    file=('images/%03d.png'%(i))\n",
    "    img=cv2.imread(file,cv2.IMREAD_GRAYSCALE)\n",
    "    hist = np.histogram(img.ravel(), 256, [0,256])\n",
    "    images_data=np.append(images_data,np.array([hist[0]]),axis=0)\n",
    "print(images_data.shape)"
   ]
  },
  {
   "cell_type": "code",
   "execution_count": null,
   "metadata": {},
   "outputs": [],
   "source": [
    "import sklearn\n",
    "from sklearn.model_selection import train_test_split\n",
    "from sklearn.neighbors import KNeighborsClassifier\n",
    "\n",
    "# 教師データとテストデータ、教師データの答え、テストデータの答えに分割する\n",
    "X_train, X_test, y_train, y_test = train_test_split(images_data, targets_data['Kirishima'], random_state=0)\n",
    "\n",
    "# 分割結果を確認する\n",
    "print(X_train.shape)\n",
    "print(X_test.shape)\n",
    "print(y_train.shape)\n",
    "print(y_test.shape)"
   ]
  },
  {
   "cell_type": "code",
   "execution_count": null,
   "metadata": {},
   "outputs": [],
   "source": [
    "knn = KNeighborsClassifier(n_neighbors=1)\n",
    "knn.fit(X_train, y_train)"
   ]
  },
  {
   "cell_type": "code",
   "execution_count": null,
   "metadata": {},
   "outputs": [],
   "source": [
    "print(knn.predict(np.array([X_test[0]])))\n",
    "print(y_test)"
   ]
  },
  {
   "cell_type": "code",
   "execution_count": null,
   "metadata": {},
   "outputs": [],
   "source": [
    "y_pred=knn.predict(X_test)\n",
    "print(y_pred)\n",
    "print(np.mean(y_pred==y_test))"
   ]
  }
 ],
 "metadata": {
  "language_info": {
   "name": "python"
  }
 },
 "nbformat": 4,
 "nbformat_minor": 2
}
