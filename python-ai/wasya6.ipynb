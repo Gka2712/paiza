{
 "cells": [
  {
   "cell_type": "code",
   "execution_count": null,
   "metadata": {},
   "outputs": [],
   "source": [
    "import numpy as np\n",
    "import librosa\n",
    "import librosa.display\n",
    "import os\n",
    "import matplotlib.pyplot as plt\n",
    "from sklearn.model_selection import train_test_split\n",
    "from sklearn import svm\n",
    "from scipy import fftpack"
   ]
  },
  {
   "cell_type": "code",
   "execution_count": null,
   "metadata": {},
   "outputs": [],
   "source": [
    "# 音声データを読み込む\n",
    "speakers = {'kirishima' : 0, 'suzutsuki' : 1, 'belevskaya' : 2}\n",
    "\n",
    "# 特徴量を返す\n",
    "def get_feat(file_name):\n",
    "    a, sr = librosa.load(file_name)\n",
    "    y=np.abs(librosa.stft(a))\n",
    "    #plt.figure(figsize=(10,4))\n",
    "    #librosa.display.specshow(librosa.amplitude_to_db(y,ref=np.max),y_axis='log',x_axis='time',sr=sr)\n",
    "    #plt.colorbar(format='%+2.0f dB')\n",
    "    #plt.tight_layout()\n",
    "    #fft_wave = fftpack.rfft(a, n=sr)\n",
    "    #fft_freq = fftpack.rfftfreq(n=sr, d=1/sr)\n",
    "    #y = librosa.amplitude_to_db(fft_wave, ref=np.max)\n",
    "#     plt.plot(fft_freq, y)\n",
    "#     plt.show()\n",
    "    return y\n",
    "\n",
    "# 特徴量と分類のラベル済みのラベルの組を返す\n",
    "def get_data(dir_name):\n",
    "    data_X = []\n",
    "    data_y = []\n",
    "    for file_name in sorted(os.listdir(path=dir_name)):\n",
    "        print(\"read: {}\".format(file_name))\n",
    "        speaker = file_name[0:file_name.index('_')]\n",
    "        data_X.append(get_feat(os.path.join(dir_name, file_name)))\n",
    "        data_y.append((speakers[speaker], file_name))\n",
    "        \n",
    "    return (data_X,data_y)\n",
    "\n",
    "#data_X, data_y = get_data('voiceset')\n",
    "get_feat('sample/hi.wav')\n",
    "get_feat('sample/lo.wav')"
   ]
  },
  {
   "cell_type": "code",
   "execution_count": null,
   "metadata": {},
   "outputs": [],
   "source": [
    "# 教師データとテストデータに分ける\n",
    "train_X, test_X, train_y, test_y = train_test_split(data_X, data_y, random_state=11813)\n",
    "print(\"{} -> {}, {}\".format(len(data_X), len(train_X), len(test_X)))"
   ]
  },
  {
   "cell_type": "code",
   "execution_count": null,
   "metadata": {},
   "outputs": [],
   "source": [
    "def split_feat(data_X, data_y):\n",
    "    data_X2 = []\n",
    "    data_y2 = []\n",
    "    for X, y in zip(data_X, data_y):\n",
    "        X2 = X.T\n",
    "        y2 = np.array([y[0]] * X.shape[1])\n",
    "        data_X2.append(X2)\n",
    "        data_y2.append(y2)\n",
    "    data_X2 = np.concatenate(data_X2)\n",
    "    data_y2 = np.concatenate(data_y2)\n",
    "    return (data_X2, data_y2)\n",
    "clf = svm.SVC(gamma=0.0001, C=1)\n",
    "#clf = svm.SVC(gamma=0.0000001, C=10)\n",
    "clf.fit(train_X, train_y.T[0])"
   ]
  },
  {
   "cell_type": "code",
   "execution_count": null,
   "metadata": {},
   "outputs": [],
   "source": [
    "def predict(X):\n",
    "    result = clf.predict(X.T)\n",
    "    return np.argmax(np.bincount(result))\n",
    "for X, y in zip(test_X, test_y):\n",
    "    actual = clf.predict(np.array([X]))[0]\n",
    "    expected = y[0]\n",
    "    file_name = y[1]\n",
    "    ok_count += 1 if actual == expected else 0\n",
    "    result = 'o' if actual == expected else 'x'\n",
    "    print(\"{} file: {}, actual: {}, expected: {}\".format(result, file_name, actual, expected))\n",
    "\n",
    "print(\"{}/{}\".format(ok_count, len(test_X)))"
   ]
  }
 ],
 "metadata": {
  "language_info": {
   "name": "python"
  }
 },
 "nbformat": 4,
 "nbformat_minor": 2
}
