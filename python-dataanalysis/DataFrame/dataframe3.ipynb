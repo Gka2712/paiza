{
 "cells": [
  {
   "cell_type": "code",
   "execution_count": 1,
   "metadata": {},
   "outputs": [
    {
     "name": "stdout",
     "output_type": "stream",
     "text": [
      "Requirement already satisfied: pandas in c:\\python312\\lib\\site-packages (2.2.2)\n",
      "Requirement already satisfied: numpy>=1.26.0 in c:\\python312\\lib\\site-packages (from pandas) (2.0.1)\n",
      "Requirement already satisfied: python-dateutil>=2.8.2 in c:\\users\\koike.atuhiro\\appdata\\roaming\\python\\python312\\site-packages (from pandas) (2.9.0.post0)\n",
      "Requirement already satisfied: pytz>=2020.1 in c:\\python312\\lib\\site-packages (from pandas) (2024.1)\n",
      "Requirement already satisfied: tzdata>=2022.7 in c:\\python312\\lib\\site-packages (from pandas) (2024.1)\n",
      "Requirement already satisfied: six>=1.5 in c:\\users\\koike.atuhiro\\appdata\\roaming\\python\\python312\\site-packages (from python-dateutil>=2.8.2->pandas) (1.16.0)\n"
     ]
    },
    {
     "name": "stderr",
     "output_type": "stream",
     "text": [
      "\n",
      "[notice] A new release of pip is available: 24.0 -> 24.2\n",
      "[notice] To update, run: python.exe -m pip install --upgrade pip\n"
     ]
    }
   ],
   "source": [
    "!pip install pandas"
   ]
  },
  {
   "cell_type": "code",
   "execution_count": 2,
   "metadata": {},
   "outputs": [
    {
     "name": "stdout",
     "output_type": "stream",
     "text": [
      "   num string  bool\n",
      "a  3.0  paiza   NaN\n",
      "b  1.0    NaN  True\n",
      "c  NaN  daiza   NaN\n"
     ]
    }
   ],
   "source": [
    "import pandas as pd\n",
    "s = pd.Series({\"a\": 3, \"b\": 1})\n",
    "t = pd.Series({\"a\": \"paiza\", \"c\": \"daiza\"})\n",
    "u = pd.Series({\"b\": True})\n",
    "df = pd.DataFrame({\"num\": s, \"string\": t, \"bool\": u})\n",
    "print(df)"
   ]
  },
  {
   "cell_type": "code",
   "execution_count": 6,
   "metadata": {},
   "outputs": [
    {
     "name": "stdout",
     "output_type": "stream",
     "text": [
      "   num string  bool\n",
      "b  1.0    NaN  True\n",
      "c  NaN  daiza   NaN\n",
      "\n",
      "   num string  bool\n",
      "b  1.0    NaN  True\n",
      "c  NaN  daiza   NaN\n"
     ]
    }
   ],
   "source": [
    "print(df[\"b\":\"c\"])\n",
    "print()\n",
    "print(df[1:3])"
   ]
  },
  {
   "cell_type": "code",
   "execution_count": null,
   "metadata": {},
   "outputs": [],
   "source": []
  },
  {
   "cell_type": "code",
   "execution_count": null,
   "metadata": {},
   "outputs": [],
   "source": []
  },
  {
   "cell_type": "code",
   "execution_count": 7,
   "metadata": {},
   "outputs": [
    {
     "name": "stdout",
     "output_type": "stream",
     "text": [
      "  string  bool\n",
      "a  paiza   NaN\n",
      "b    NaN  True\n",
      "c  daiza   NaN\n"
     ]
    }
   ],
   "source": [
    "print(df.loc[:,\"string\":])"
   ]
  },
  {
   "cell_type": "code",
   "execution_count": 8,
   "metadata": {},
   "outputs": [
    {
     "name": "stdout",
     "output_type": "stream",
     "text": [
      "  string  bool\n",
      "a  paiza   NaN\n",
      "b    NaN  True\n"
     ]
    }
   ],
   "source": [
    "print(df.loc[:\"b\",\"string\":])"
   ]
  },
  {
   "cell_type": "code",
   "execution_count": 10,
   "metadata": {},
   "outputs": [
    {
     "name": "stdout",
     "output_type": "stream",
     "text": [
      "   num string\n",
      "a  3.0  paiza\n",
      "c  NaN  daiza\n"
     ]
    }
   ],
   "source": [
    "print(df.loc[[\"a\",\"c\"],[\"num\",\"string\"]])"
   ]
  },
  {
   "cell_type": "code",
   "execution_count": 11,
   "metadata": {},
   "outputs": [
    {
     "name": "stdout",
     "output_type": "stream",
     "text": [
      "   num bool\n",
      "a  3.0  NaN\n",
      "c  NaN  NaN\n"
     ]
    }
   ],
   "source": [
    "print(df.iloc[[0,2],[0,2]])"
   ]
  }
 ],
 "metadata": {
  "kernelspec": {
   "display_name": "Python 3",
   "language": "python",
   "name": "python3"
  },
  "language_info": {
   "codemirror_mode": {
    "name": "ipython",
    "version": 3
   },
   "file_extension": ".py",
   "mimetype": "text/x-python",
   "name": "python",
   "nbconvert_exporter": "python",
   "pygments_lexer": "ipython3",
   "version": "3.12.2"
  }
 },
 "nbformat": 4,
 "nbformat_minor": 2
}
