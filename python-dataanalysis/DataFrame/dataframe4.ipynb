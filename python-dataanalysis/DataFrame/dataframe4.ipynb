{
 "cells": [
  {
   "cell_type": "code",
   "execution_count": 1,
   "metadata": {},
   "outputs": [
    {
     "name": "stdout",
     "output_type": "stream",
     "text": [
      "Requirement already satisfied: pandas in c:\\python312\\lib\\site-packages (2.2.2)\n",
      "Requirement already satisfied: numpy>=1.26.0 in c:\\python312\\lib\\site-packages (from pandas) (2.0.1)\n",
      "Requirement already satisfied: python-dateutil>=2.8.2 in c:\\users\\koike.atuhiro\\appdata\\roaming\\python\\python312\\site-packages (from pandas) (2.9.0.post0)\n",
      "Requirement already satisfied: pytz>=2020.1 in c:\\python312\\lib\\site-packages (from pandas) (2024.1)\n",
      "Requirement already satisfied: tzdata>=2022.7 in c:\\python312\\lib\\site-packages (from pandas) (2024.1)\n",
      "Requirement already satisfied: six>=1.5 in c:\\users\\koike.atuhiro\\appdata\\roaming\\python\\python312\\site-packages (from python-dateutil>=2.8.2->pandas) (1.16.0)\n"
     ]
    },
    {
     "name": "stderr",
     "output_type": "stream",
     "text": [
      "\n",
      "[notice] A new release of pip is available: 24.0 -> 24.2\n",
      "[notice] To update, run: python.exe -m pip install --upgrade pip\n"
     ]
    }
   ],
   "source": [
    "!pip install pandas"
   ]
  },
  {
   "cell_type": "code",
   "execution_count": 1,
   "metadata": {},
   "outputs": [
    {
     "name": "stdout",
     "output_type": "stream",
     "text": [
      "   num string\n",
      "a  3.0  paiza\n",
      "b  1.0    NaN\n",
      "c  NaN  daiza\n"
     ]
    }
   ],
   "source": [
    "import pandas as pd\n",
    "\n",
    "\n",
    "s = pd.Series({\"a\": 3, \"b\": 1})\n",
    "t = pd.Series({\"a\": \"paiza\", \"c\": \"daiza\"})\n",
    "df = pd.DataFrame({\"num\": s, \"string\": t})\n",
    "print(df)"
   ]
  },
  {
   "cell_type": "code",
   "execution_count": 3,
   "metadata": {},
   "outputs": [
    {
     "name": "stdout",
     "output_type": "stream",
     "text": [
      "     num string\n",
      "a  300.0  paiza\n",
      "b  100.0    NaN\n",
      "c    NaN  daiza\n"
     ]
    }
   ],
   "source": [
    "df[\"num\"]=pd.Series({\"a\":300,\"b\":100})\n",
    "print(df)"
   ]
  },
  {
   "cell_type": "code",
   "execution_count": 4,
   "metadata": {},
   "outputs": [
    {
     "name": "stdout",
     "output_type": "stream",
     "text": [
      "     num string   bool\n",
      "a  300.0  paiza  False\n",
      "b  100.0    NaN  False\n",
      "c    NaN  daiza  False\n"
     ]
    }
   ],
   "source": [
    "df[\"bool\"]=False\n",
    "print(df)"
   ]
  },
  {
   "cell_type": "code",
   "execution_count": 5,
   "metadata": {},
   "outputs": [
    {
     "name": "stdout",
     "output_type": "stream",
     "text": [
      "     num string   bool\n",
      "a  300.0  paiza  False\n",
      "b  100.0    NaN  False\n",
      "c    NaN  daiza  False\n",
      "d  813.0  pizza   True\n"
     ]
    }
   ],
   "source": [
    "df.loc[\"d\"]=pd.Series({\"num\":813,\"string\":\"pizza\",\"bool\":True})\n",
    "print(df)"
   ]
  },
  {
   "cell_type": "code",
   "execution_count": 10,
   "metadata": {},
   "outputs": [
    {
     "name": "stdout",
     "output_type": "stream",
     "text": [
      "    bool\n",
      "b  False\n",
      "c  False\n",
      "d   True\n",
      "    bool\n",
      "a  False\n",
      "b  False\n",
      "c  False\n",
      "d   True\n"
     ]
    }
   ],
   "source": [
    "#del df[\"string\"]\n",
    "#a=df.pop(\"num\")\n",
    "print(df.drop(\"a\"))\n",
    "print(df)"
   ]
  }
 ],
 "metadata": {
  "kernelspec": {
   "display_name": "Python 3",
   "language": "python",
   "name": "python3"
  },
  "language_info": {
   "codemirror_mode": {
    "name": "ipython",
    "version": 3
   },
   "file_extension": ".py",
   "mimetype": "text/x-python",
   "name": "python",
   "nbconvert_exporter": "python",
   "pygments_lexer": "ipython3",
   "version": "3.12.2"
  }
 },
 "nbformat": 4,
 "nbformat_minor": 2
}
