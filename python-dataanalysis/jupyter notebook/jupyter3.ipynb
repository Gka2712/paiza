{
 "cells": [
  {
   "cell_type": "code",
   "execution_count": 1,
   "metadata": {},
   "outputs": [
    {
     "name": "stdout",
     "output_type": "stream",
     "text": [
      "Requirement already satisfied: pandas in c:\\python312\\lib\\site-packages (2.2.2)\n",
      "Requirement already satisfied: numpy>=1.26.0 in c:\\python312\\lib\\site-packages (from pandas) (2.0.1)\n",
      "Requirement already satisfied: python-dateutil>=2.8.2 in c:\\users\\koike.atuhiro\\appdata\\roaming\\python\\python312\\site-packages (from pandas) (2.9.0.post0)\n",
      "Requirement already satisfied: pytz>=2020.1 in c:\\python312\\lib\\site-packages (from pandas) (2024.1)\n",
      "Requirement already satisfied: tzdata>=2022.7 in c:\\python312\\lib\\site-packages (from pandas) (2024.1)\n",
      "Requirement already satisfied: six>=1.5 in c:\\users\\koike.atuhiro\\appdata\\roaming\\python\\python312\\site-packages (from python-dateutil>=2.8.2->pandas) (1.16.0)\n"
     ]
    },
    {
     "name": "stderr",
     "output_type": "stream",
     "text": [
      "\n",
      "[notice] A new release of pip is available: 24.0 -> 24.2\n",
      "[notice] To update, run: python.exe -m pip install --upgrade pip\n"
     ]
    }
   ],
   "source": [
    "!pip install pandas"
   ]
  },
  {
   "cell_type": "code",
   "execution_count": 1,
   "metadata": {},
   "outputs": [
    {
     "data": {
      "text/html": [
       "<div>\n",
       "<style scoped>\n",
       "    .dataframe tbody tr th:only-of-type {\n",
       "        vertical-align: middle;\n",
       "    }\n",
       "\n",
       "    .dataframe tbody tr th {\n",
       "        vertical-align: top;\n",
       "    }\n",
       "\n",
       "    .dataframe thead th {\n",
       "        text-align: right;\n",
       "    }\n",
       "</style>\n",
       "<table border=\"1\" class=\"dataframe\">\n",
       "  <thead>\n",
       "    <tr style=\"text-align: right;\">\n",
       "      <th></th>\n",
       "      <th>id</th>\n",
       "      <th>num</th>\n",
       "    </tr>\n",
       "  </thead>\n",
       "  <tbody>\n",
       "    <tr>\n",
       "      <th>0</th>\n",
       "      <td>1</td>\n",
       "      <td>100</td>\n",
       "    </tr>\n",
       "    <tr>\n",
       "      <th>1</th>\n",
       "      <td>2</td>\n",
       "      <td>200</td>\n",
       "    </tr>\n",
       "    <tr>\n",
       "      <th>2</th>\n",
       "      <td>3</td>\n",
       "      <td>300</td>\n",
       "    </tr>\n",
       "    <tr>\n",
       "      <th>3</th>\n",
       "      <td>4</td>\n",
       "      <td>400</td>\n",
       "    </tr>\n",
       "    <tr>\n",
       "      <th>4</th>\n",
       "      <td>5</td>\n",
       "      <td>500</td>\n",
       "    </tr>\n",
       "  </tbody>\n",
       "</table>\n",
       "</div>"
      ],
      "text/plain": [
       "   id  num\n",
       "0   1  100\n",
       "1   2  200\n",
       "2   3  300\n",
       "3   4  400\n",
       "4   5  500"
      ]
     },
     "execution_count": 1,
     "metadata": {},
     "output_type": "execute_result"
    }
   ],
   "source": [
    "import pandas as pd\n",
    "df=pd.read_csv(\"csv/long.csv\",nrows=5)\n",
    "df"
   ]
  },
  {
   "cell_type": "code",
   "execution_count": 2,
   "metadata": {},
   "outputs": [
    {
     "name": "stdout",
     "output_type": "stream",
     "text": [
      "   id   num\n",
      "0   1   100\n",
      "1   2   200\n",
      "2   3   300\n",
      "3   4   400\n",
      "4   5   500\n",
      "5   6   600\n",
      "6   7   700\n",
      "7   8   800\n",
      "8   9   900\n",
      "9  10  1000\n",
      "    id   num\n",
      "10  11  1100\n",
      "11  12  1200\n",
      "12  13  1300\n",
      "13  14  1400\n",
      "14  15  1500\n",
      "15  16  1600\n",
      "16  17  1700\n",
      "17  18  1800\n",
      "18  19  1900\n",
      "19  20  2000\n",
      "    id   num\n",
      "20  21  2100\n",
      "21  22  2200\n",
      "22  23  2300\n",
      "23  24  2400\n",
      "24  25  2500\n",
      "25  26  2600\n",
      "26  27  2700\n",
      "27  28  2800\n",
      "28  29  2900\n",
      "29  30  3000\n",
      "    id   num\n",
      "30  31  3100\n",
      "31  32  3200\n",
      "32  33  3300\n",
      "33  34  3400\n",
      "34  35  3500\n",
      "35  36  3600\n",
      "36  37  3700\n",
      "37  38  3800\n",
      "38  39  3900\n",
      "39  40  4000\n",
      "    id   num\n",
      "40  41  4100\n",
      "41  42  4200\n",
      "42  43  4300\n",
      "43  44  4400\n",
      "44  45  4500\n",
      "45  46  4600\n",
      "46  47  4700\n",
      "47  48  4800\n",
      "48  49  4900\n",
      "49  50  5000\n",
      "    id   num\n",
      "50  51  5100\n",
      "51  52  5200\n",
      "52  53  5300\n",
      "53  54  5400\n",
      "54  55  5500\n",
      "55  56  5600\n",
      "56  57  5700\n",
      "57  58  5800\n",
      "58  59  5900\n",
      "59  60  6000\n",
      "    id   num\n",
      "60  61  6100\n",
      "61  62  6200\n",
      "62  63  6300\n",
      "63  64  6400\n",
      "64  65  6500\n",
      "65  66  6600\n",
      "66  67  6700\n",
      "67  68  6800\n",
      "68  69  6900\n",
      "69  70  7000\n",
      "    id   num\n",
      "70  71  7100\n",
      "71  72  7200\n",
      "72  73  7300\n",
      "73  74  7400\n",
      "74  75  7500\n",
      "75  76  7600\n",
      "76  77  7700\n",
      "77  78  7800\n",
      "78  79  7900\n",
      "79  80  8000\n",
      "    id   num\n",
      "80  81  8100\n",
      "81  82  8200\n",
      "82  83  8300\n",
      "83  84  8400\n",
      "84  85  8500\n",
      "85  86  8600\n",
      "86  87  8700\n",
      "87  88  8800\n",
      "88  89  8900\n",
      "89  90  9000\n",
      "     id    num\n",
      "90   91   9100\n",
      "91   92   9200\n",
      "92   93   9300\n",
      "93   94   9400\n",
      "94   95   9500\n",
      "95   96   9600\n",
      "96   97   9700\n",
      "97   98   9800\n",
      "98   99   9900\n",
      "99  100  10000\n"
     ]
    }
   ],
   "source": [
    "chunks=pd.read_csv(\"csv/long.csv\",chunksize=10)\n",
    "for chunk in chunks:\n",
    "    print(chunk)"
   ]
  },
  {
   "cell_type": "code",
   "execution_count": 3,
   "metadata": {},
   "outputs": [
    {
     "name": "stdout",
     "output_type": "stream",
     "text": [
      "550.0\n",
      "1550.0\n",
      "2550.0\n",
      "3550.0\n",
      "4550.0\n",
      "5550.0\n",
      "6550.0\n",
      "7550.0\n",
      "8550.0\n",
      "9550.0\n"
     ]
    }
   ],
   "source": [
    "chunks = pd.read_csv(\"csv/long.csv\", chunksize=10)\n",
    "for chunk in chunks:\n",
    "    print(chunk[\"num\"].mean())"
   ]
  }
 ],
 "metadata": {
  "kernelspec": {
   "display_name": "Python 3",
   "language": "python",
   "name": "python3"
  },
  "language_info": {
   "codemirror_mode": {
    "name": "ipython",
    "version": 3
   },
   "file_extension": ".py",
   "mimetype": "text/x-python",
   "name": "python",
   "nbconvert_exporter": "python",
   "pygments_lexer": "ipython3",
   "version": "3.12.2"
  }
 },
 "nbformat": 4,
 "nbformat_minor": 2
}
